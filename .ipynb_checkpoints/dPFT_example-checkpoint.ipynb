{
 "cells": [
  {
   "cell_type": "code",
   "execution_count": 1,
   "id": "cdf23583-9ba4-4a2a-b91f-1c590ad80f14",
   "metadata": {},
   "outputs": [
    {
     "ename": "NameError",
     "evalue": "name 'dxr_v7_dicom' is not defined",
     "output_type": "error",
     "traceback": [
      "\u001b[0;31m---------------------------------------------------------------------------\u001b[0m",
      "\u001b[0;31mNameError\u001b[0m                                 Traceback (most recent call last)",
      "Cell \u001b[0;32mIn[1], line 1\u001b[0m\n\u001b[0;32m----> 1\u001b[0m \u001b[43mdxr_v7_dicom\u001b[49m\n\u001b[1;32m      2\u001b[0m dxr_preprocess_v2\u001b[38;5;241m.\u001b[39mpy\n",
      "\u001b[0;31mNameError\u001b[0m: name 'dxr_v7_dicom' is not defined"
     ]
    }
   ],
   "source": [
    "# This tutorial is to preprocess a dicom file of DXR acquired images, and run SLEAP-based tracking\n",
    "\n",
    "# Imports \n",
    "import os, matplotlib, pandas as pd, numpy as np, pickle as pckl, skimage, sys, shutil, time, scipy, pywt, cv2, datetime, subprocess as sp\n",
    "import matplotlib.pyplot as plt, seaborn as sns, json, matplotlib as mpl\n",
    "import subprocess as sp\n",
    "import skimage\n",
    "import imageio\n",
    "import h5py\n",
    "from scipy.interpolate import interp1d\n",
    "from scipy import signal\n",
    "import seaborn as sns\n",
    "import warnings, gc\n",
    "from matplotlib import cm\n",
    "import pydicom\n",
    "from pydicom import dcmread\n",
    "from pydicom.pixel_data_handlers.util import apply_voi_lut\n",
    "import imageio\n",
    "import cv2"
   ]
  },
  {
   "cell_type": "code",
   "execution_count": null,
   "id": "0897bb40-2239-448c-b7ab-d68950e7b3d6",
   "metadata": {},
   "outputs": [],
   "source": [
    "dxr_v7_dicom\n",
    "dxr_preprocess_v2.py"
   ]
  }
 ],
 "metadata": {
  "kernelspec": {
   "display_name": "Python 3 (ipykernel)",
   "language": "python",
   "name": "python3"
  },
  "language_info": {
   "codemirror_mode": {
    "name": "ipython",
    "version": 3
   },
   "file_extension": ".py",
   "mimetype": "text/x-python",
   "name": "python",
   "nbconvert_exporter": "python",
   "pygments_lexer": "ipython3",
   "version": "3.10.8"
  }
 },
 "nbformat": 4,
 "nbformat_minor": 5
}
